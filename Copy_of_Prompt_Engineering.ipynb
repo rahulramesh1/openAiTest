{
  "cells": [
    {
      "cell_type": "markdown",
      "metadata": {
        "id": "view-in-github",
        "colab_type": "text"
      },
      "source": [
        "<a href=\"https://colab.research.google.com/github/rahulramesh1/openAiTest/blob/main/Copy_of_Prompt_Engineering.ipynb\" target=\"_parent\"><img src=\"https://colab.research.google.com/assets/colab-badge.svg\" alt=\"Open In Colab\"/></a>"
      ]
    },
    {
      "cell_type": "markdown",
      "id": "c6860dc8",
      "metadata": {
        "id": "c6860dc8"
      },
      "source": [
        "\n",
        "# Prompt Engineering\n",
        "\n",
        "\n",
        "\n",
        "## Steps Covered in This Notebook:\n",
        "\n",
        "1. Creating an empty text file.\n",
        "2. Configuring the Azure OpenAI client.\n",
        "3. Reading input from the user and system message.\n",
        "4. Making an asynchronous call to the OpenAI model.\n",
        "5. Handling the response from the model.\n",
        "\n",
        "### Import Necessary Libraries\n",
        "\n",
        "First, we need to import the necessary libraries, including asyncio for asynchronous programming and the Azure OpenAI package.\n",
        "    "
      ]
    },
    {
      "cell_type": "code",
      "execution_count": 2,
      "id": "76ze6mPDOzY7",
      "metadata": {
        "id": "76ze6mPDOzY7",
        "outputId": "51e71ff8-39a2-4c27-9073-c3a0dc889208",
        "colab": {
          "base_uri": "https://localhost:8080/"
        }
      },
      "outputs": [
        {
          "output_type": "stream",
          "name": "stdout",
          "text": [
            "Collecting openai==1.13.3\n",
            "  Downloading openai-1.13.3-py3-none-any.whl (227 kB)\n",
            "\u001b[2K     \u001b[90m━━━━━━━━━━━━━━━━━━━━━━━━━━━━━━━━━━━━━━━━\u001b[0m \u001b[32m227.4/227.4 kB\u001b[0m \u001b[31m1.5 MB/s\u001b[0m eta \u001b[36m0:00:00\u001b[0m\n",
            "\u001b[?25hRequirement already satisfied: anyio<5,>=3.5.0 in /usr/local/lib/python3.10/dist-packages (from openai==1.13.3) (3.7.1)\n",
            "Requirement already satisfied: distro<2,>=1.7.0 in /usr/lib/python3/dist-packages (from openai==1.13.3) (1.7.0)\n",
            "Collecting httpx<1,>=0.23.0 (from openai==1.13.3)\n",
            "  Downloading httpx-0.27.0-py3-none-any.whl (75 kB)\n",
            "\u001b[2K     \u001b[90m━━━━━━━━━━━━━━━━━━━━━━━━━━━━━━━━━━━━━━━━\u001b[0m \u001b[32m75.6/75.6 kB\u001b[0m \u001b[31m4.7 MB/s\u001b[0m eta \u001b[36m0:00:00\u001b[0m\n",
            "\u001b[?25hRequirement already satisfied: pydantic<3,>=1.9.0 in /usr/local/lib/python3.10/dist-packages (from openai==1.13.3) (2.7.3)\n",
            "Requirement already satisfied: sniffio in /usr/local/lib/python3.10/dist-packages (from openai==1.13.3) (1.3.1)\n",
            "Requirement already satisfied: tqdm>4 in /usr/local/lib/python3.10/dist-packages (from openai==1.13.3) (4.66.4)\n",
            "Requirement already satisfied: typing-extensions<5,>=4.7 in /usr/local/lib/python3.10/dist-packages (from openai==1.13.3) (4.12.1)\n",
            "Requirement already satisfied: idna>=2.8 in /usr/local/lib/python3.10/dist-packages (from anyio<5,>=3.5.0->openai==1.13.3) (3.7)\n",
            "Requirement already satisfied: exceptiongroup in /usr/local/lib/python3.10/dist-packages (from anyio<5,>=3.5.0->openai==1.13.3) (1.2.1)\n",
            "Requirement already satisfied: certifi in /usr/local/lib/python3.10/dist-packages (from httpx<1,>=0.23.0->openai==1.13.3) (2024.6.2)\n",
            "Collecting httpcore==1.* (from httpx<1,>=0.23.0->openai==1.13.3)\n",
            "  Downloading httpcore-1.0.5-py3-none-any.whl (77 kB)\n",
            "\u001b[2K     \u001b[90m━━━━━━━━━━━━━━━━━━━━━━━━━━━━━━━━━━━━━━━━\u001b[0m \u001b[32m77.9/77.9 kB\u001b[0m \u001b[31m5.2 MB/s\u001b[0m eta \u001b[36m0:00:00\u001b[0m\n",
            "\u001b[?25hCollecting h11<0.15,>=0.13 (from httpcore==1.*->httpx<1,>=0.23.0->openai==1.13.3)\n",
            "  Downloading h11-0.14.0-py3-none-any.whl (58 kB)\n",
            "\u001b[2K     \u001b[90m━━━━━━━━━━━━━━━━━━━━━━━━━━━━━━━━━━━━━━━━\u001b[0m \u001b[32m58.3/58.3 kB\u001b[0m \u001b[31m4.4 MB/s\u001b[0m eta \u001b[36m0:00:00\u001b[0m\n",
            "\u001b[?25hRequirement already satisfied: annotated-types>=0.4.0 in /usr/local/lib/python3.10/dist-packages (from pydantic<3,>=1.9.0->openai==1.13.3) (0.7.0)\n",
            "Requirement already satisfied: pydantic-core==2.18.4 in /usr/local/lib/python3.10/dist-packages (from pydantic<3,>=1.9.0->openai==1.13.3) (2.18.4)\n",
            "Installing collected packages: h11, httpcore, httpx, openai\n",
            "Successfully installed h11-0.14.0 httpcore-1.0.5 httpx-0.27.0 openai-1.13.3\n"
          ]
        }
      ],
      "source": [
        "!pip install openai==1.13.3"
      ]
    },
    {
      "cell_type": "code",
      "execution_count": 3,
      "id": "121e4681",
      "metadata": {
        "id": "121e4681"
      },
      "outputs": [],
      "source": [
        "\n",
        "import asyncio\n",
        "from openai import AsyncAzureOpenAI\n"
      ]
    },
    {
      "cell_type": "markdown",
      "id": "1d10f211",
      "metadata": {
        "id": "1d10f211"
      },
      "source": [
        "\n",
        "### Creating an Empty Text File\n",
        "\n",
        "Next, we create an empty text file named `system.txt`.\n",
        "    "
      ]
    },
    {
      "cell_type": "code",
      "execution_count": 4,
      "id": "1a1d72bf",
      "metadata": {
        "id": "1a1d72bf",
        "outputId": "b402f5af-42b1-47a8-f110-59caef4bf90d",
        "colab": {
          "base_uri": "https://localhost:8080/"
        }
      },
      "outputs": [
        {
          "output_type": "stream",
          "name": "stdout",
          "text": [
            "Created file: system.txt\n"
          ]
        }
      ],
      "source": [
        "\n",
        "# Creating an empty text file named system.txt\n",
        "file_name = 'system.txt'\n",
        "\n",
        "with open(file_name, 'w') as file:\n",
        "    pass\n",
        "\n",
        "print(f\"Created file: {file_name}\")\n"
      ]
    },
    {
      "cell_type": "markdown",
      "id": "e06e92ff",
      "metadata": {
        "id": "e06e92ff"
      },
      "source": [
        "\n",
        "### Setting Configuration and Client Initialization\n",
        "\n",
        "We will now set the configuration for the Azure OpenAI service, including the endpoint, API key, and deployment name.\n",
        "    "
      ]
    },
    {
      "cell_type": "code",
      "execution_count": 5,
      "id": "1068e837",
      "metadata": {
        "id": "1068e837",
        "outputId": "e500cb53-30fa-48fc-9637-025d222a828c",
        "colab": {
          "base_uri": "https://localhost:8080/"
        }
      },
      "outputs": [
        {
          "output_type": "stream",
          "name": "stdout",
          "text": [
            "Azure OpenAI client configured.\n"
          ]
        }
      ],
      "source": [
        "\n",
        "# Configuration settings\n",
        "azure_oai_endpoint =\"https://eyuser27.openai.azure.com/\"\n",
        "azure_oai_key =\"98820bac08d241298094de8a35be4b10\"\n",
        "azure_oai_deployment =\"gpt-35-turbo-16k\"\n",
        "\n",
        "# Configure the Azure OpenAI client\n",
        "client = AsyncAzureOpenAI(\n",
        "    azure_endpoint=azure_oai_endpoint,\n",
        "    api_key=azure_oai_key,\n",
        "    api_version=\"2024-02-15-preview\"\n",
        ")\n",
        "\n",
        "print(\"Azure OpenAI client configured.\")\n"
      ]
    },
    {
      "cell_type": "markdown",
      "id": "758d52f0",
      "metadata": {
        "id": "758d52f0"
      },
      "source": [
        "\n",
        "### Defining the Main Function\n",
        "\n",
        "The `main` function will handle user input and interact with the Azure OpenAI model.\n",
        "    "
      ]
    },
    {
      "cell_type": "code",
      "execution_count": 6,
      "id": "b239867c",
      "metadata": {
        "id": "b239867c"
      },
      "outputs": [],
      "source": [
        "\n",
        "# Set to True to print the full response from OpenAI for each call\n",
        "printFullResponse = False\n",
        "\n",
        "async def main():\n",
        "    try:\n",
        "        while True:\n",
        "            # Pause the app to allow the user to enter the system prompt\n",
        "            print(\"------------------Pausing the app to allow you to change the system prompt in system.txt file, Press anything then enter to continue...\")\n",
        "            input()\n",
        "\n",
        "            # Read in system message and prompt for user message\n",
        "            system_text = open(file=\"/content/system.txt\", encoding=\"utf8\").read().strip()\n",
        "            user_text = input(\"Enter user message: \")\n",
        "            if user_text.lower() == 'quit' or system_text.lower() == 'quit':\n",
        "                print('Exiting program...')\n",
        "                break\n",
        "\n",
        "            await call_openai_model(system_message=system_text,\n",
        "                                    user_message=user_text,\n",
        "                                    model=azure_oai_deployment,\n",
        "                                    client=client)\n",
        "\n",
        "    except Exception as ex:\n",
        "        print(ex)\n"
      ]
    },
    {
      "cell_type": "markdown",
      "id": "gSTDMXvwweyt",
      "metadata": {
        "id": "gSTDMXvwweyt"
      },
      "source": [
        "**In the next step, we will create a txt file named grouding.txt that serves as grounding text for our model**"
      ]
    },
    {
      "cell_type": "code",
      "execution_count": null,
      "id": "ByGeXebBtXwd",
      "metadata": {
        "id": "ByGeXebBtXwd",
        "outputId": "1226f611-4060-4d0f-f8c9-ecd888acd3fa",
        "colab": {
          "base_uri": "https://localhost:8080/"
        }
      },
      "outputs": [
        {
          "output_type": "stream",
          "name": "stdout",
          "text": [
            "Created file: grounding.txt\n"
          ]
        }
      ],
      "source": [
        "grounding_text = \"\"\"\n",
        "---\n",
        "\n",
        "Contoso is a wildlife rescue organization that has dedicated itself to the protection and preservation of animals and their habitats. The organization has been working tirelessly to protect the wildlife and their habitats from the threat of extinction. Contoso's mission is to provide a safe and healthy environment for all animals in their care.\n",
        "\n",
        "One of the most popular animals that Contoso rescues and cares for is the red panda. Known for their fluffy tails and adorable faces, red pandas have captured the hearts of children all over the world. These playful creatures are native to the Himalayas and are listed as endangered due to habitat loss and poaching.\n",
        "\n",
        "Contoso's red panda rescue program is one of their most successful initiatives. The organization works with local communities to protect the red panda's natural habitat and provides medical care for those that are rescued. Contoso's team of experts works tirelessly to ensure that all rescued red pandas receive the best possible care and are eventually released back into the wild.\n",
        "\n",
        "Children, in particular, have a soft spot for red pandas. These playful creatures are often featured in children's books, cartoons, and movies. With their fluffy tails and bright eyes, it's easy to see why children are drawn to them. Contoso understands this and has made it their mission to educate children about the importance of wildlife conservation and the role they can play in protecting these endangered species.\n",
        "\n",
        "Contoso's red panda rescue program is not only helping to save these adorable creatures from extinction but is also providing a unique opportunity for children to learn about wildlife conservation. The organization offers educational programs and tours that allow children to get up close and personal with the red pandas. These programs are designed to teach children about the importance of protecting wildlife and their habitats.\n",
        "\n",
        "In addition to their red panda rescue program, Contoso also rescues and cares for a variety of other animals, including elephants, tigers, and rhinoceros. The organization is committed to protecting all animals in their care and works tirelessly to provide them with a safe and healthy environment.\n",
        "---\n",
        "\n",
        "\"\"\"\n",
        "\n",
        "with open('grounding.txt', 'w') as file:\n",
        "    file.write(grounding_text)\n",
        "\n",
        "print(\"Created file: grounding.txt\")\n"
      ]
    },
    {
      "cell_type": "markdown",
      "id": "bdfd7d99",
      "metadata": {
        "id": "bdfd7d99"
      },
      "source": [
        "\n",
        "### Defining the Call to the OpenAI Model\n",
        "\n",
        "The `call_openai_model` function formats the request and sends it to the OpenAI model.\n",
        "    "
      ]
    },
    {
      "cell_type": "code",
      "execution_count": null,
      "id": "eb8d5b92",
      "metadata": {
        "id": "eb8d5b92"
      },
      "outputs": [],
      "source": [
        "\n",
        "async def call_openai_model(system_message, user_message, model, client):\n",
        "    # Format and send the request to the model\n",
        "    print(\"Adding grounding context from grounding.txt\")\n",
        "    grounding_text = open(file=\"/content/grounding.txt\", encoding=\"utf8\").read().strip()\n",
        "    user_message = grounding_text + user_message\n",
        "    messages = [\n",
        "        {\"role\": \"system\", \"content\": system_message},\n",
        "        {\"role\": \"user\", \"content\": user_message},\n",
        "        ]\n",
        "    print(\"Sending request to Azure OpenAI model...\")\n",
        "    # Call the Azure OpenAI model\n",
        "    response = await client.chat.completions.create(\n",
        "        model=model,\n",
        "        messages=messages,\n",
        "        temperature=0.7,\n",
        "        max_tokens=800\n",
        "    )\n",
        "\n",
        "    if printFullResponse:\n",
        "        print(response)\n",
        "\n",
        "    print(\"Response:\" + response.choices[0].message.content + \"\\n\")\n"
      ]
    },
    {
      "cell_type": "markdown",
      "id": "7d0f1faf",
      "metadata": {
        "id": "7d0f1faf"
      },
      "source": [
        "\n",
        "### Running the Main Function\n",
        "\n",
        "Finally, we run the `main` function within the current event loop.\n",
        "    "
      ]
    },
    {
      "cell_type": "code",
      "execution_count": null,
      "id": "GQcnSh0kvGwb",
      "metadata": {
        "id": "GQcnSh0kvGwb",
        "outputId": "23f0e311-0066-4e9c-8cab-07c7f9697c47",
        "colab": {
          "base_uri": "https://localhost:8080/"
        }
      },
      "outputs": [
        {
          "output_type": "stream",
          "name": "stdout",
          "text": [
            "------------------Pausing the app to allow you to change the system prompt in system.txt file, Press anything then enter to continue...\n",
            "quit\n",
            "Enter user message: Hello \n",
            "Adding grounding context from grounding.txt\n",
            "Sending request to Azure OpenAI model...\n",
            "Response:! Thank you for sharing this information about Contoso, a wildlife rescue organization. It's great to hear that they are dedicated to protecting and preserving animals and their habitats. The work they are doing with red pandas is especially important, as these adorable creatures are endangered due to habitat loss and poaching. It's wonderful that Contoso's red panda rescue program is successful and that they are working with local communities to protect their natural habitat. \n",
            "\n",
            "It's also great to hear that Contoso understands the importance of educating children about wildlife conservation and the role they can play in protecting endangered species. By offering educational programs and tours that allow children to learn about and interact with red pandas, Contoso is helping to inspire the next generation of wildlife conservationists.\n",
            "\n",
            "It's commendable that Contoso also rescues and cares for a variety of other animals, including elephants, tigers, and rhinoceros. Their commitment to providing a safe and healthy environment for all animals in their care is truly admirable.\n",
            "\n",
            "Overall, Contoso's work is making a significant impact in protecting and preserving wildlife. Thank you for sharing this information!\n",
            "\n",
            "------------------Pausing the app to allow you to change the system prompt in system.txt file, Press anything then enter to continue...\n",
            "j\n",
            "Enter user message: test\n",
            "Adding grounding context from grounding.txt\n",
            "Sending request to Azure OpenAI model...\n",
            "Response:This text is about Contoso, a wildlife rescue organization dedicated to the protection and preservation of animals and their habitats. Their popular red panda rescue program, which aims to protect the endangered red pandas, has been successful in working with local communities to safeguard their natural habitat and provide medical care for rescued pandas. Contoso also focuses on educating children about wildlife conservation and offers educational programs and tours that allow children to interact with red pandas and learn about the importance of protecting wildlife. In addition to red pandas, Contoso rescues and cares for other animals like elephants, tigers, and rhinoceros, ensuring their safety and well-being.\n",
            "\n",
            "------------------Pausing the app to allow you to change the system prompt in system.txt file, Press anything then enter to continue...\n",
            "You are coding assistant helping in Python\n",
            "Enter user message: code to add two decimal numbers\n",
            "Adding grounding context from grounding.txt\n",
            "Sending request to Azure OpenAI model...\n",
            "Response:To add two decimal numbers in code, you can use the following Python code:\n",
            "\n",
            "```python\n",
            "num1 = 1.5\n",
            "num2 = 2.3\n",
            "\n",
            "sum = num1 + num2\n",
            "\n",
            "print(\"The sum of\", num1, \"and\", num2, \"is\", sum)\n",
            "```\n",
            "\n",
            "This code declares two decimal numbers `num1` and `num2` with values 1.5 and 2.3 respectively. It then adds these two numbers and stores the result in the variable `sum`. Finally, it prints the sum using the `print` function.\n",
            "\n",
            "------------------Pausing the app to allow you to change the system prompt in system.txt file, Press anything then enter to continue...\n"
          ]
        }
      ],
      "source": [
        "\n",
        "# Run the main function in the event loop\n",
        "await main()\n"
      ]
    }
  ],
  "metadata": {
    "colab": {
      "provenance": [],
      "include_colab_link": true
    },
    "kernelspec": {
      "display_name": "Python 3",
      "name": "python3"
    },
    "language_info": {
      "name": "python",
      "version": "3.11.9"
    }
  },
  "nbformat": 4,
  "nbformat_minor": 5
}