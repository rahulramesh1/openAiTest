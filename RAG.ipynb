{
  "cells": [
    {
      "cell_type": "code",
      "execution_count": null,
      "metadata": {
        "jupyter": {
          "outputs_hidden": false,
          "source_hidden": false
        },
        "nteract": {
          "transient": {
            "deleting": false
          }
        }
      },
      "outputs": [],
      "source": [
        "!pip install openai==1.13.3"
      ]
    },
    {
      "cell_type": "code",
      "execution_count": null,
      "metadata": {
        "gather": {
          "logged": 1712392098283
        }
      },
      "outputs": [],
      "source": [
        "# Add Azure OpenAI package\n",
        "from openai import AzureOpenAI"
      ]
    },
    {
      "cell_type": "code",
      "execution_count": null,
      "metadata": {
        "gather": {
          "logged": 1712392099428
        },
        "jupyter": {
          "outputs_hidden": false,
          "source_hidden": false
        },
        "nteract": {
          "transient": {
            "deleting": false
          }
        }
      },
      "outputs": [],
      "source": [
        "import json\n",
        "\n",
        "# Flag to show citations\n",
        "show_citations = True\n",
        "\n",
        "# Get configuration settings \n",
        "azure_oai_endpoint =\"your OpenAI Endpoint\"\n",
        "azure_oai_key =\"your openAI key\"\n",
        "azure_oai_deployment =\"deployment name\"\n",
        "azure_search_endpoint = \"azure search endpoint\"\n",
        "azure_search_key = \"azure searchkey\"\n",
        "azure_search_index = \"margiestravel\""
      ]
    },
    {
      "cell_type": "code",
      "execution_count": null,
      "metadata": {
        "gather": {
          "logged": 1712392100502
        },
        "jupyter": {
          "outputs_hidden": false,
          "source_hidden": false
        },
        "nteract": {
          "transient": {
            "deleting": false
          }
        }
      },
      "outputs": [],
      "source": [
        "# Initialize the Azure OpenAI client\n",
        "client = AzureOpenAI(\n",
        "            base_url=f\"{azure_oai_endpoint}/openai/deployments/{azure_oai_deployment}/extensions\",\n",
        "            api_key=azure_oai_key,\n",
        "            api_version=\"2023-09-01-preview\")"
      ]
    },
    {
      "cell_type": "code",
      "execution_count": null,
      "metadata": {
        "gather": {
          "logged": 1712392101499
        },
        "jupyter": {
          "outputs_hidden": false,
          "source_hidden": false
        },
        "nteract": {
          "transient": {
            "deleting": false
          }
        }
      },
      "outputs": [],
      "source": [
        "# Configure your data source\n",
        "extension_config = dict(dataSources = [  \n",
        "        { \n",
        "            \"type\": \"AzureCognitiveSearch\", \n",
        "            \"parameters\": { \n",
        "                \"endpoint\":azure_search_endpoint, \n",
        "                \"key\": azure_search_key, \n",
        "                \"indexName\": azure_search_index,\n",
        "            }\n",
        "        }]\n",
        "    )"
      ]
    },
    {
      "cell_type": "code",
      "execution_count": null,
      "metadata": {
        "gather": {
          "logged": 1712392139105
        },
        "jupyter": {
          "outputs_hidden": false,
          "source_hidden": false
        },
        "nteract": {
          "transient": {
            "deleting": false
          }
        }
      },
      "outputs": [],
      "source": [
        "# Get the prompt\n",
        "text = input('\\nEnter a question:\\n')"
      ]
    },
    {
      "cell_type": "code",
      "execution_count": null,
      "metadata": {
        "gather": {
          "logged": 1712392142167
        },
        "jupyter": {
          "outputs_hidden": false,
          "source_hidden": false
        },
        "nteract": {
          "transient": {
            "deleting": false
          }
        }
      },
      "outputs": [],
      "source": [
        "# Send request to Azure OpenAI model\n",
        "print(\"...Sending the following request to Azure OpenAI endpoint...\")\n",
        "print(\"Request: \" + text + \"\\n\")\n",
        "\n",
        "response = client.chat.completions.create(\n",
        "    model = azure_oai_deployment,\n",
        "    temperature = 0.5,\n",
        "    max_tokens = 1000,\n",
        "    messages = [\n",
        "         {\"role\": \"system\", \"content\": \"You are a helpful travel agent\"},\n",
        "         {\"role\": \"user\", \"content\": text}\n",
        "            ],\n",
        "            extra_body = extension_config\n",
        "        )"
      ]
    },
    {
      "cell_type": "code",
      "execution_count": null,
      "metadata": {
        "gather": {
          "logged": 1712392342071
        },
        "jupyter": {
          "outputs_hidden": false,
          "source_hidden": false
        },
        "nteract": {
          "transient": {
            "deleting": false
          }
        }
      },
      "outputs": [],
      "source": [
        "# Print response\n",
        "print(\"Response: \" + response.choices[0].message.content + \"\\n\")"
      ]
    },
    {
      "cell_type": "code",
      "execution_count": null,
      "metadata": {
        "gather": {
          "logged": 1712392291521
        },
        "jupyter": {
          "outputs_hidden": false,
          "source_hidden": false
        },
        "nteract": {
          "transient": {
            "deleting": false
          }
        }
      },
      "outputs": [],
      "source": [
        "#Check for the citations\n",
        "if (show_citations):\n",
        "    # Print citations\n",
        "    print(\"Citations:\")\n",
        "    citations = response.choices[0].message.context[\"messages\"][0][\"content\"]\n",
        "    citation_json = json.loads(citations)\n",
        "    for c in citation_json[\"citations\"]:\n",
        "        print(\"  Title: \" + c['title'] + \"\\n    URL: \" + c['url'])"
      ]
    },
    {
      "cell_type": "code",
      "execution_count": null,
      "metadata": {
        "jupyter": {
          "outputs_hidden": false,
          "source_hidden": false
        },
        "nteract": {
          "transient": {
            "deleting": false
          }
        }
      },
      "outputs": [],
      "source": []
    }
  ],
  "metadata": {
    "kernel_info": {
      "name": "python38-azureml"
    },
    "kernelspec": {
      "display_name": "Python 3.8 - AzureML",
      "language": "python",
      "name": "python38-azureml"
    },
    "language_info": {
      "codemirror_mode": {
        "name": "ipython",
        "version": 3
      },
      "file_extension": ".py",
      "mimetype": "text/x-python",
      "name": "python",
      "nbconvert_exporter": "python",
      "pygments_lexer": "ipython3",
      "version": "3.8.5"
    },
    "microsoft": {
      "host": {
        "AzureML": {
          "notebookHasBeenCompleted": true
        }
      },
      "ms_spell_check": {
        "ms_spell_check_language": "en"
      }
    },
    "nteract": {
      "version": "nteract-front-end@1.0.0"
    }
  },
  "nbformat": 4,
  "nbformat_minor": 2
}
