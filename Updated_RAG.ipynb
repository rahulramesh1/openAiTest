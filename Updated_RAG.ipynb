{
  "cells": [
    {
      "cell_type": "code",
      "execution_count": null,
      "metadata": {
        "jupyter": {
          "outputs_hidden": false,
          "source_hidden": false
        },
        "nteract": {
          "transient": {
            "deleting": false
          }
        },
        "id": "En84GzR5P1El",
        "outputId": "2f5bf40e-6090-4e14-e92c-d76449ad573b",
        "colab": {
          "base_uri": "https://localhost:8080/"
        }
      },
      "outputs": [
        {
          "output_type": "stream",
          "name": "stdout",
          "text": [
            "Collecting openai==1.13.3\n",
            "  Downloading openai-1.13.3-py3-none-any.whl (227 kB)\n",
            "\u001b[2K     \u001b[90m━━━━━━━━━━━━━━━━━━━━━━━━━━━━━━━━━━━━━━━━\u001b[0m \u001b[32m227.4/227.4 kB\u001b[0m \u001b[31m1.1 MB/s\u001b[0m eta \u001b[36m0:00:00\u001b[0m\n",
            "\u001b[?25hRequirement already satisfied: anyio<5,>=3.5.0 in /usr/local/lib/python3.10/dist-packages (from openai==1.13.3) (3.7.1)\n",
            "Requirement already satisfied: distro<2,>=1.7.0 in /usr/lib/python3/dist-packages (from openai==1.13.3) (1.7.0)\n",
            "Collecting httpx<1,>=0.23.0 (from openai==1.13.3)\n",
            "  Downloading httpx-0.27.0-py3-none-any.whl (75 kB)\n",
            "\u001b[2K     \u001b[90m━━━━━━━━━━━━━━━━━━━━━━━━━━━━━━━━━━━━━━━━\u001b[0m \u001b[32m75.6/75.6 kB\u001b[0m \u001b[31m6.3 MB/s\u001b[0m eta \u001b[36m0:00:00\u001b[0m\n",
            "\u001b[?25hRequirement already satisfied: pydantic<3,>=1.9.0 in /usr/local/lib/python3.10/dist-packages (from openai==1.13.3) (2.7.3)\n",
            "Requirement already satisfied: sniffio in /usr/local/lib/python3.10/dist-packages (from openai==1.13.3) (1.3.1)\n",
            "Requirement already satisfied: tqdm>4 in /usr/local/lib/python3.10/dist-packages (from openai==1.13.3) (4.66.4)\n",
            "Requirement already satisfied: typing-extensions<5,>=4.7 in /usr/local/lib/python3.10/dist-packages (from openai==1.13.3) (4.12.2)\n",
            "Requirement already satisfied: idna>=2.8 in /usr/local/lib/python3.10/dist-packages (from anyio<5,>=3.5.0->openai==1.13.3) (3.7)\n",
            "Requirement already satisfied: exceptiongroup in /usr/local/lib/python3.10/dist-packages (from anyio<5,>=3.5.0->openai==1.13.3) (1.2.1)\n",
            "Requirement already satisfied: certifi in /usr/local/lib/python3.10/dist-packages (from httpx<1,>=0.23.0->openai==1.13.3) (2024.6.2)\n",
            "Collecting httpcore==1.* (from httpx<1,>=0.23.0->openai==1.13.3)\n",
            "  Downloading httpcore-1.0.5-py3-none-any.whl (77 kB)\n",
            "\u001b[2K     \u001b[90m━━━━━━━━━━━━━━━━━━━━━━━━━━━━━━━━━━━━━━━━\u001b[0m \u001b[32m77.9/77.9 kB\u001b[0m \u001b[31m5.6 MB/s\u001b[0m eta \u001b[36m0:00:00\u001b[0m\n",
            "\u001b[?25hCollecting h11<0.15,>=0.13 (from httpcore==1.*->httpx<1,>=0.23.0->openai==1.13.3)\n",
            "  Downloading h11-0.14.0-py3-none-any.whl (58 kB)\n",
            "\u001b[2K     \u001b[90m━━━━━━━━━━━━━━━━━━━━━━━━━━━━━━━━━━━━━━━━\u001b[0m \u001b[32m58.3/58.3 kB\u001b[0m \u001b[31m4.7 MB/s\u001b[0m eta \u001b[36m0:00:00\u001b[0m\n",
            "\u001b[?25hRequirement already satisfied: annotated-types>=0.4.0 in /usr/local/lib/python3.10/dist-packages (from pydantic<3,>=1.9.0->openai==1.13.3) (0.7.0)\n",
            "Requirement already satisfied: pydantic-core==2.18.4 in /usr/local/lib/python3.10/dist-packages (from pydantic<3,>=1.9.0->openai==1.13.3) (2.18.4)\n",
            "Installing collected packages: h11, httpcore, httpx, openai\n",
            "Successfully installed h11-0.14.0 httpcore-1.0.5 httpx-0.27.0 openai-1.13.3\n"
          ]
        }
      ],
      "source": [
        "!pip install openai==1.13.3"
      ]
    },
    {
      "cell_type": "code",
      "execution_count": null,
      "metadata": {
        "gather": {
          "logged": 1712392098283
        },
        "id": "paPa1D9EP1Em"
      },
      "outputs": [],
      "source": [
        "# Add Azure OpenAI package\n",
        "from openai import AzureOpenAI"
      ]
    },
    {
      "cell_type": "code",
      "execution_count": null,
      "metadata": {
        "gather": {
          "logged": 1712392099428
        },
        "jupyter": {
          "outputs_hidden": false,
          "source_hidden": false
        },
        "nteract": {
          "transient": {
            "deleting": false
          }
        },
        "id": "TwKZdNA5P1Em"
      },
      "outputs": [],
      "source": [
        "import json\n",
        "\n",
        "# Flag to show citations\n",
        "show_citations = True\n",
        "\n",
        "# Get configuration settings\n",
        "azure_oai_endpoint =\"https://eygroup-5.openai.azure.com/\"\n",
        "azure_oai_key =\"3d70c3d98fe04860acbb9fb625222366\"\n",
        "azure_oai_deployment =\"Group5-AIHackathon\"\n",
        "azure_search_endpoint = \"https://group5aisearchservice.search.windows.net\"\n",
        "azure_search_key = \"ekxVrvDqv7FRDTHWGfpIK3GisZXXWrrYmuHr53qr7KAzSeCcwgvL\"\n",
        "azure_search_index = \"group5index\""
      ]
    },
    {
      "cell_type": "code",
      "execution_count": null,
      "metadata": {
        "gather": {
          "logged": 1712392100502
        },
        "jupyter": {
          "outputs_hidden": false,
          "source_hidden": false
        },
        "nteract": {
          "transient": {
            "deleting": false
          }
        },
        "id": "H-NkByetP1Em"
      },
      "outputs": [],
      "source": [
        "# Initialize the Azure OpenAI client\n",
        "client = AzureOpenAI(\n",
        "            base_url=f\"{azure_oai_endpoint}/openai/deployments/{azure_oai_deployment}/extensions\",\n",
        "            api_key=azure_oai_key,\n",
        "            api_version=\"2023-09-01-preview\")"
      ]
    },
    {
      "cell_type": "code",
      "execution_count": null,
      "metadata": {
        "gather": {
          "logged": 1712392101499
        },
        "jupyter": {
          "outputs_hidden": false,
          "source_hidden": false
        },
        "nteract": {
          "transient": {
            "deleting": false
          }
        },
        "id": "n79hWgzjP1En"
      },
      "outputs": [],
      "source": [
        "# Configure your data source\n",
        "extension_config = dict(dataSources = [\n",
        "        {\n",
        "            \"type\": \"AzureCognitiveSearch\",\n",
        "            \"parameters\": {\n",
        "                \"endpoint\":azure_search_endpoint,\n",
        "                \"key\": azure_search_key,\n",
        "                \"indexName\": azure_search_index,\n",
        "            }\n",
        "        }]\n",
        "    )"
      ]
    },
    {
      "cell_type": "code",
      "execution_count": null,
      "metadata": {
        "gather": {
          "logged": 1712392139105
        },
        "jupyter": {
          "outputs_hidden": false,
          "source_hidden": false
        },
        "nteract": {
          "transient": {
            "deleting": false
          }
        },
        "id": "Rek5E7m8P1En",
        "outputId": "a6a6fd46-168d-4b41-a532-6edf8ec956b4",
        "colab": {
          "base_uri": "https://localhost:8080/"
        }
      },
      "outputs": [
        {
          "name": "stdout",
          "output_type": "stream",
          "text": [
            "\n",
            "Enter your query:\n",
            "What are the available leave types\n"
          ]
        }
      ],
      "source": [
        "# Get the prompt\n",
        "text = input('\\nEnter your query:\\n')"
      ]
    },
    {
      "cell_type": "code",
      "execution_count": null,
      "metadata": {
        "gather": {
          "logged": 1712392142167
        },
        "jupyter": {
          "outputs_hidden": false,
          "source_hidden": false
        },
        "nteract": {
          "transient": {
            "deleting": false
          }
        },
        "id": "u4hqYWRuP1En",
        "outputId": "74bb76d7-dc90-4409-80ec-4fa8912b10b2",
        "colab": {
          "base_uri": "https://localhost:8080/"
        }
      },
      "outputs": [
        {
          "output_type": "stream",
          "name": "stdout",
          "text": [
            "...Sending the following request to Azure OpenAI endpoint...\n",
            "Request: What are the available leave types\n",
            "\n"
          ]
        }
      ],
      "source": [
        "# Send request to Azure OpenAI model\n",
        "print(\"...Sending the following request to Azure OpenAI endpoint...\")\n",
        "print(\"Request: \" + text + \"\\n\")\n",
        "\n",
        "response = client.chat.completions.create(\n",
        "    model = azure_oai_deployment,\n",
        "    temperature = 0.5,\n",
        "    max_tokens = 1000,\n",
        "    messages = [\n",
        "         {\"role\": \"system\", \"content\": \"You are a helpful assistant who navigates through policy documents and provides answers based on user queries.\"},\n",
        "         {\"role\": \"user\", \"content\": text}\n",
        "            ],\n",
        "            extra_body = extension_config\n",
        "        )"
      ]
    },
    {
      "cell_type": "code",
      "execution_count": null,
      "metadata": {
        "gather": {
          "logged": 1712392342071
        },
        "jupyter": {
          "outputs_hidden": false,
          "source_hidden": false
        },
        "nteract": {
          "transient": {
            "deleting": false
          }
        },
        "id": "PHUU8humP1En",
        "outputId": "c4b6f34a-6905-4241-eade-17753be6a24e",
        "colab": {
          "base_uri": "https://localhost:8080/"
        }
      },
      "outputs": [
        {
          "output_type": "stream",
          "name": "stdout",
          "text": [
            "Response: The available leave types under the All India Services (Leave) Rules, 1955 include the following:\n",
            "\n",
            "1. Earned Leave [doc1]\n",
            "2. Commuted Leave [doc1]\n",
            "3. Half Pay Leave \n",
            "4. Leave Not Due [doc5]\n",
            "5. Leave on Medical Certificate [doc5]\n",
            "6. Special Disability Leave \n",
            "7. Maternity Leave [doc5]\n",
            "8. Child Adoption Leave [doc5]\n",
            "9. Paternity Leave [doc5]\n",
            "10. Child Care Leave [doc5]\n",
            "\n",
            "Please note that the above list is not exhaustive, and there may be additional leave types specified in the All India Services (Leave) Rules, 1955.\n",
            "\n"
          ]
        }
      ],
      "source": [
        "# Print response\n",
        "print(\"Response: \" + response.choices[0].message.content + \"\\n\")"
      ]
    },
    {
      "cell_type": "code",
      "execution_count": null,
      "metadata": {
        "gather": {
          "logged": 1712392291521
        },
        "jupyter": {
          "outputs_hidden": false,
          "source_hidden": false
        },
        "nteract": {
          "transient": {
            "deleting": false
          }
        },
        "id": "3M07On4MP1En",
        "outputId": "8f46dd8b-13f4-4ac0-ac1e-1debbe691c51",
        "colab": {
          "base_uri": "https://localhost:8080/"
        }
      },
      "outputs": [
        {
          "output_type": "stream",
          "name": "stdout",
          "text": [
            "Citations:\n",
            "  Title: 4\n",
            "    URL: https://group5blobstorage.blob.core.windows.net/fileupload-group5index/Revised_AIS_Rule_Vol_I_Rule_03.pdf\n",
            "  Title: 4\n",
            "    URL: https://group5blobstorage.blob.core.windows.net/fileupload-group5index/Revised_AIS_Rule_Vol_I_Rule_03.pdf\n",
            "  Title: 4\n",
            "    URL: https://group5blobstorage.blob.core.windows.net/fileupload-group5index/Revised_AIS_Rule_Vol_I_Rule_03.pdf\n",
            "  Title: 4\n",
            "    URL: https://group5blobstorage.blob.core.windows.net/fileupload-group5index/Revised_AIS_Rule_Vol_I_Rule_03.pdf\n",
            "  Title: 4\n",
            "    URL: https://group5blobstorage.blob.core.windows.net/fileupload-group5index/Revised_AIS_Rule_Vol_I_Rule_03.pdf\n"
          ]
        }
      ],
      "source": [
        "#Check for the citations\n",
        "if (show_citations):\n",
        "    # Print citations\n",
        "    print(\"Citations:\")\n",
        "    citations = response.choices[0].message.context[\"messages\"][0][\"content\"]\n",
        "    citation_json = json.loads(citations)\n",
        "    for c in citation_json[\"citations\"]:\n",
        "        print(\"  Title: \" + c['title'] + \"\\n    URL: \" + c['url'])"
      ]
    },
    {
      "cell_type": "code",
      "execution_count": null,
      "metadata": {
        "jupyter": {
          "outputs_hidden": false,
          "source_hidden": false
        },
        "nteract": {
          "transient": {
            "deleting": false
          }
        },
        "id": "qxnwAVqkP1En"
      },
      "outputs": [],
      "source": []
    }
  ],
  "metadata": {
    "kernel_info": {
      "name": "python38-azureml"
    },
    "kernelspec": {
      "display_name": "Python 3.8 - AzureML",
      "language": "python",
      "name": "python38-azureml"
    },
    "language_info": {
      "codemirror_mode": {
        "name": "ipython",
        "version": 3
      },
      "file_extension": ".py",
      "mimetype": "text/x-python",
      "name": "python",
      "nbconvert_exporter": "python",
      "pygments_lexer": "ipython3",
      "version": "3.8.5"
    },
    "microsoft": {
      "host": {
        "AzureML": {
          "notebookHasBeenCompleted": true
        }
      },
      "ms_spell_check": {
        "ms_spell_check_language": "en"
      }
    },
    "nteract": {
      "version": "nteract-front-end@1.0.0"
    },
    "colab": {
      "provenance": []
    }
  },
  "nbformat": 4,
  "nbformat_minor": 0
}